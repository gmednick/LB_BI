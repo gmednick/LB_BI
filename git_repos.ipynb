{
 "cells": [
  {
   "cell_type": "code",
   "execution_count": 1,
   "id": "972b70fa",
   "metadata": {
    "tags": []
   },
   "outputs": [
    {
     "name": "stdout",
     "output_type": "stream",
     "text": [
      "/Users/gmednick/Desktop/LB_BI\n"
     ]
    }
   ],
   "source": [
    "!pwd"
   ]
  },
  {
   "cell_type": "code",
   "execution_count": null,
   "id": "a8fbdc2b-086a-45e4-a57c-a3a5d4a23086",
   "metadata": {
    "jupyter": {
     "source_hidden": true
    },
    "tags": []
   },
   "outputs": [],
   "source": [
    "#Create a git repository\n",
    "!git init\n",
    "!git add -A\n",
    "!git commit -m \"first commit\""
   ]
  },
  {
   "cell_type": "code",
   "execution_count": 2,
   "id": "495e521c-ed99-4127-8c9b-10fd9756af27",
   "metadata": {},
   "outputs": [
    {
     "name": "stdout",
     "output_type": "stream",
     "text": [
      "On branch master\n",
      "\n",
      "No commits yet\n",
      "\n",
      "Untracked files:\n",
      "  (use \"git add <file>...\" to include in what will be committed)\n",
      "\t\u001b[31m.ipynb_checkpoints/\u001b[m\n",
      "\t\u001b[31mgit_repos.ipynb\u001b[m\n",
      "\t\u001b[31mpython_script.py\u001b[m\n",
      "\n",
      "nothing added to commit but untracked files present (use \"git add\" to track)\n"
     ]
    }
   ],
   "source": [
    "!git init"
   ]
  },
  {
   "cell_type": "code",
   "execution_count": null,
   "id": "5dafcfd5-8208-45fe-906f-6bcabce46187",
   "metadata": {},
   "outputs": [],
   "source": [
    "!git status"
   ]
  },
  {
   "cell_type": "code",
   "execution_count": 3,
   "id": "fb3c81ad-6e70-4ad4-b3de-67dee4173787",
   "metadata": {
    "tags": []
   },
   "outputs": [
    {
     "name": "stdout",
     "output_type": "stream",
     "text": [
      "\u001b[34m.\u001b[m\u001b[m                  \u001b[34m.git\u001b[m\u001b[m               git_repos.ipynb\n",
      "\u001b[34m..\u001b[m\u001b[m                 \u001b[34m.ipynb_checkpoints\u001b[m\u001b[m python_script.py\n"
     ]
    }
   ],
   "source": [
    "!ls -a"
   ]
  },
  {
   "cell_type": "code",
   "execution_count": 4,
   "id": "42fa3493-66eb-4aa2-9056-f34dad9acfe6",
   "metadata": {},
   "outputs": [],
   "source": [
    "!git remote add origin git@github.com:gmednick/LB_BI.git"
   ]
  },
  {
   "cell_type": "code",
   "execution_count": 5,
   "id": "2e8c212c-8c45-47c3-9ec3-d42968bdb30a",
   "metadata": {
    "tags": []
   },
   "outputs": [
    {
     "name": "stdout",
     "output_type": "stream",
     "text": [
      "error: src refspec master does not match any\n",
      "\u001b[31merror: failed to push some refs to 'git@github.com:gmednick/LB_BI.git'\n",
      "\u001b[m"
     ]
    }
   ],
   "source": [
    "!git push --set-upstream origin master"
   ]
  },
  {
   "cell_type": "code",
   "execution_count": 6,
   "id": "452f4efc-c25e-442e-8d7c-cf22744f99c7",
   "metadata": {
    "tags": []
   },
   "outputs": [
    {
     "name": "stdout",
     "output_type": "stream",
     "text": [
      "On branch master\n",
      "\n",
      "No commits yet\n",
      "\n",
      "Untracked files:\n",
      "  (use \"git add <file>...\" to include in what will be committed)\n",
      "\t\u001b[31m.ipynb_checkpoints/\u001b[m\n",
      "\t\u001b[31mgit_repos.ipynb\u001b[m\n",
      "\t\u001b[31mpython_script.py\u001b[m\n",
      "\n",
      "nothing added to commit but untracked files present (use \"git add\" to track)\n"
     ]
    }
   ],
   "source": [
    "!git status"
   ]
  },
  {
   "cell_type": "code",
   "execution_count": null,
   "id": "e038ef43-3f9b-47e2-8de0-e840b6b46f5e",
   "metadata": {
    "tags": []
   },
   "outputs": [],
   "source": [
    "!git add \n",
    "!git status\n",
    "!git commit -m \"second commit\"\n",
    "!git push"
   ]
  },
  {
   "cell_type": "code",
   "execution_count": null,
   "id": "fffd2144-ad39-4b93-beb1-cb767a0c4b57",
   "metadata": {},
   "outputs": [],
   "source": [
    "!git status"
   ]
  },
  {
   "cell_type": "code",
   "execution_count": null,
   "id": "27d5c0e6-d229-4544-9316-2bc4cddfc625",
   "metadata": {},
   "outputs": [],
   "source": []
  },
  {
   "cell_type": "code",
   "execution_count": null,
   "id": "3e51a5c7-e8d8-423c-a8d9-9fe72259cbe1",
   "metadata": {},
   "outputs": [],
   "source": []
  },
  {
   "cell_type": "code",
   "execution_count": null,
   "id": "69135669-ae7c-4ce3-82be-e4a290bc6012",
   "metadata": {},
   "outputs": [],
   "source": []
  }
 ],
 "metadata": {
  "kernelspec": {
   "display_name": "Python 3",
   "language": "python",
   "name": "python3"
  },
  "language_info": {
   "codemirror_mode": {
    "name": "ipython",
    "version": 3
   },
   "file_extension": ".py",
   "mimetype": "text/x-python",
   "name": "python",
   "nbconvert_exporter": "python",
   "pygments_lexer": "ipython3",
   "version": "3.8.10"
  }
 },
 "nbformat": 4,
 "nbformat_minor": 5
}
